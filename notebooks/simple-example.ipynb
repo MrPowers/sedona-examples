{
 "cells": [
  {
   "cell_type": "code",
   "execution_count": 2,
   "id": "4f905e1d-5363-46d1-bf17-75b7fb114b28",
   "metadata": {},
   "outputs": [],
   "source": [
    "from sedona.spark import *\n",
    "\n",
    "\n",
    "config = (\n",
    "    SedonaContext.builder()\n",
    "    .config(\n",
    "        \"spark.jars.packages\",\n",
    "        \"org.apache.sedona:sedona-spark-3.5_2.12:1.6.1,\"\n",
    "        \"org.datasyslab:geotools-wrapper:1.7.0-28.5\",\n",
    "    )\n",
    "    .config(\n",
    "        \"spark.jars.repositories\",\n",
    "        \"https://artifacts.unidata.ucar.edu/repository/unidata-all\",\n",
    "    )\n",
    "    .config(\"spark.executor.memory\", \"12G\")\n",
    "    .config(\"spark.driver.memory\", \"12G\")\n",
    "    .config(\"spark.sql.shuffle.partitions\", \"2\")\n",
    "    .getOrCreate()\n",
    ")\n",
    "\n",
    "sedona = SedonaContext.create(config)\n",
    "sedona.sparkContext.setLogLevel(\"OFF\")"
   ]
  },
  {
   "cell_type": "code",
   "execution_count": 3,
   "id": "b81695da-dc94-4ba7-9694-b7824cc3a978",
   "metadata": {},
   "outputs": [],
   "source": [
    "sql = \"\"\"\n",
    "SELECT ST_AreaSpheroid(\n",
    "    ST_GeomFromWKT('Polygon ((34 35, 28 30, 25 34, 34 35))')\n",
    ") as result\n",
    "\"\"\""
   ]
  },
  {
   "cell_type": "code",
   "execution_count": 4,
   "id": "ac58885b-b8f3-4fac-9fc7-2ca598bb02f1",
   "metadata": {},
   "outputs": [
    {
     "name": "stdout",
     "output_type": "stream",
     "text": [
      "+---------------------+\n",
      "|result               |\n",
      "+---------------------+\n",
      "|2.0182485081176245E11|\n",
      "+---------------------+\n",
      "\n"
     ]
    }
   ],
   "source": [
    "sedona.sql(sql).show(truncate=False)"
   ]
  },
  {
   "cell_type": "code",
   "execution_count": null,
   "id": "20be4d10-271b-4d02-9168-915ba70ab55f",
   "metadata": {},
   "outputs": [],
   "source": []
  }
 ],
 "metadata": {
  "kernelspec": {
   "display_name": "sedonaexamples",
   "language": "python",
   "name": "sedonaexamples"
  },
  "language_info": {
   "codemirror_mode": {
    "name": "ipython",
    "version": 3
   },
   "file_extension": ".py",
   "mimetype": "text/x-python",
   "name": "python",
   "nbconvert_exporter": "python",
   "pygments_lexer": "ipython3",
   "version": "3.12.4"
  }
 },
 "nbformat": 4,
 "nbformat_minor": 5
}
